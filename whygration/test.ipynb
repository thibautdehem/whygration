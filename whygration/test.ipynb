{
 "cells": [
  {
   "cell_type": "markdown",
   "metadata": {},
   "source": [
    "## Importing data"
   ]
  },
  {
   "cell_type": "code",
   "execution_count": null,
   "metadata": {},
   "outputs": [],
   "source": [
    "#import pandas as pd\n",
    "#df = pd.io.stata.read_stata('/Users/elenaschigirev/Desktop/impic2016.dta')\n",
    "#df.to_csv('/Users/elenaschigirev/Desktop/impic2016.csv')\n",
    "#belgium = df[df['cntry'] == 'be']\n",
    "#belgium"
   ]
  },
  {
   "cell_type": "code",
   "execution_count": null,
   "metadata": {
    "scrolled": true
   },
   "outputs": [],
   "source": [
    "import pandas as pd\n",
    "data_file = \"/Users/elenaschigirev/Desktop/lw_project/project_setup/immigration.xlsx\"\n",
    "df = pd.read_excel(data_file,\n",
    "                     sheet_name=0,\n",
    "                     header=0,\n",
    "                     index_col=False,\n",
    "                     keep_default_na=True)\n",
    "df.head()"
   ]
  },
  {
   "cell_type": "markdown",
   "metadata": {
    "heading_collapsed": true
   },
   "source": [
    "## Visualisation of trends"
   ]
  },
  {
   "cell_type": "code",
   "execution_count": null,
   "metadata": {
    "hidden": true,
    "scrolled": false
   },
   "outputs": [],
   "source": [
    "import seaborn as sns\n",
    "import matplotlib.pyplot as plt\n",
    "\n",
    "year = df['year']\n",
    "total_immigr = df['total_immigr']\n",
    "gdp_be = df['gdp_be']\n",
    "\n",
    "plt.figure(figsize=(15,10))\n",
    "plt.plot(year, total_immigr, label='total')\n",
    "#plt.plot(year, gdp_be, label='gdp')\n",
    "plt.legend()\n",
    "plt.title('Immigration to Belgium')\n",
    "plt.grid(lw=0.5)\n",
    "plt.xticks([1980, 1985, 1990, 1995, 2000, 2005, 2010, 2015])\n",
    "plt.show()"
   ]
  },
  {
   "cell_type": "code",
   "execution_count": null,
   "metadata": {
    "hidden": true,
    "scrolled": true
   },
   "outputs": [],
   "source": [
    "gdp_be = df['gdp_be']\n",
    "\n",
    "plt.figure(figsize=(15,5))\n",
    "plt.plot(year, gdp_be, label='GDP Belgium')\n",
    "plt.legend()\n",
    "plt.title('GDP Comparison')\n",
    "plt.grid(lw=0.5)\n",
    "plt.xticks([1980, 1985, 1990, 1995, 2000, 2005, 2010, 2015])\n",
    "plt.show()"
   ]
  },
  {
   "cell_type": "code",
   "execution_count": null,
   "metadata": {
    "hidden": true
   },
   "outputs": [],
   "source": [
    "age_dep_be = df['age_dep_be']\n",
    "\n",
    "plt.figure(figsize=(15,5))\n",
    "plt.plot(year, age_dep_be, label='dep_rat_be')\n",
    "plt.legend()\n",
    "plt.title('Age dependency ratio comparison')\n",
    "plt.grid(lw=0.5)\n",
    "plt.xticks([1980, 1985, 1990, 1995, 2000, 2005, 2010, 2015])\n",
    "plt.show()"
   ]
  },
  {
   "cell_type": "markdown",
   "metadata": {
    "hidden": true
   },
   "source": [
    "The dependency ratio is a measure of the number of dependents aged zero to 14 and over the age of 65, compared with the total population aged 15 to 64. This demographic indicator gives insight into the number of people of non-working age, compared with the number of those of working age."
   ]
  },
  {
   "cell_type": "code",
   "execution_count": null,
   "metadata": {
    "hidden": true,
    "scrolled": true
   },
   "outputs": [],
   "source": [
    "sns.scatterplot('gdp_be', 'total_immigr', data=df)"
   ]
  },
  {
   "cell_type": "code",
   "execution_count": null,
   "metadata": {
    "hidden": true,
    "scrolled": true
   },
   "outputs": [],
   "source": [
    "sns.regplot('gdp_be', 'total_immigr', data=df)"
   ]
  },
  {
   "cell_type": "code",
   "execution_count": null,
   "metadata": {
    "hidden": true,
    "scrolled": true
   },
   "outputs": [],
   "source": [
    "print('R-Squared = ', (df.corr()['total_immigr']['gdp_be'])**2)"
   ]
  },
  {
   "cell_type": "markdown",
   "metadata": {
    "hidden": true
   },
   "source": [
    "90% of the variance of immigration is explainable by the variance of Belgian GDP. Hm, that's quite high"
   ]
  },
  {
   "cell_type": "code",
   "execution_count": null,
   "metadata": {
    "hidden": true,
    "scrolled": true
   },
   "outputs": [],
   "source": [
    "plt.figure(figsize=(15,10))\n",
    "plt.subplot(2,2,1)\n",
    "sns.regplot('gdp_be', 'total_immigr', data=df, ci=95)\n",
    "plt.subplot(2,2,2)\n",
    "sns.regplot('gdp_be', 'total_immigr', data=df.sample(10, random_state=6), ci=95)"
   ]
  },
  {
   "cell_type": "code",
   "execution_count": null,
   "metadata": {
    "hidden": true,
    "scrolled": true
   },
   "outputs": [],
   "source": [
    "import statsmodels.api as sm\n",
    "import statsmodels.formula.api as smf \n",
    "import matplotlib.pyplot as plt \n",
    "import numpy as np\n",
    "\n",
    "model = smf.ols(formula='total_immigr ~ gdp_be', data=df)\n",
    "model = model.fit()\n",
    "model"
   ]
  },
  {
   "cell_type": "code",
   "execution_count": null,
   "metadata": {
    "hidden": true,
    "scrolled": false
   },
   "outputs": [],
   "source": [
    "print(model.params)"
   ]
  },
  {
   "cell_type": "markdown",
   "metadata": {
    "hidden": true
   },
   "source": [
    "Interpretation: For each increase of 1 unit of GDP, immigration increases on average by...hmmm"
   ]
  },
  {
   "cell_type": "markdown",
   "metadata": {
    "heading_collapsed": true
   },
   "source": [
    "## Multiple Linear Regression Analysis"
   ]
  },
  {
   "cell_type": "code",
   "execution_count": null,
   "metadata": {
    "hidden": true,
    "scrolled": false
   },
   "outputs": [],
   "source": [
    "#df['year'] = pd.to_datetime(df['year'], infer_datetime_format=True)\n",
    "#df.head()\n",
    "indexed_df = df.set_index(['year'])\n",
    "indexed_df.head()"
   ]
  },
  {
   "cell_type": "code",
   "execution_count": null,
   "metadata": {
    "hidden": true,
    "scrolled": true
   },
   "outputs": [],
   "source": [
    "indexed_df = indexed_df.astype(float)"
   ]
  },
  {
   "cell_type": "code",
   "execution_count": null,
   "metadata": {
    "hidden": true
   },
   "outputs": [],
   "source": [
    "indexed_df = indexed_df.loc['1977':'2018']"
   ]
  },
  {
   "cell_type": "code",
   "execution_count": null,
   "metadata": {
    "hidden": true
   },
   "outputs": [],
   "source": [
    "import matplotlib.pyplot as plt\n",
    "import seaborn as sns\n",
    "import pandas as pd\n",
    "import numpy as np\n",
    "import pylab\n",
    "import math\n",
    "\n",
    "from scipy import stats\n",
    "\n",
    "import statsmodels.api as sm\n",
    "from statsmodels.stats import diagnostic as diag\n",
    "from statsmodels.stats.outliers_influence import variance_inflation_factor\n",
    "\n",
    "from sklearn.model_selection import train_test_split\n",
    "from sklearn.linear_model import LinearRegression\n",
    "from sklearn.metrics import mean_squared_error, r2_score, mean_absolute_error\n",
    "\n",
    "%matplotlib inline"
   ]
  },
  {
   "cell_type": "code",
   "execution_count": null,
   "metadata": {
    "hidden": true
   },
   "outputs": [],
   "source": [
    "display(indexed_df.isnull().any())"
   ]
  },
  {
   "cell_type": "code",
   "execution_count": null,
   "metadata": {
    "hidden": true,
    "scrolled": true
   },
   "outputs": [],
   "source": [
    "select_df = indexed_df[['total_immigr', 'work_age_be', 'pop_growth_be', 'age_dep_be', 'gdp_be', 'gdp_capita_be', 'pol_change_minor', 'pol_change_mid', 'pol_change_major']]\n",
    "select_df.head()"
   ]
  },
  {
   "cell_type": "markdown",
   "metadata": {
    "hidden": true
   },
   "source": [
    "Assumptions that led to the inclusion of above independent variables:\n",
    "\n",
    "work_age_be: if the working age population is decreasing, more jobs will remain unfilled and the state will accept more migrants\n",
    "\n",
    "pop_growth_be: if the population growth slows down there will be more need to attract foreigners\n",
    "\n",
    "age_dep_be: ratio of working people and dependent people (children, retired, etc.), similar to work_age_be so we expect a high correlation\n",
    "\n",
    "gdp_be: a wealthier country will attract more migrants\n",
    "\n",
    "changes in immigration policies affect how many migrants will be able to enter\n"
   ]
  },
  {
   "cell_type": "code",
   "execution_count": null,
   "metadata": {
    "hidden": true,
    "scrolled": false
   },
   "outputs": [],
   "source": [
    "corr = select_df.corr()\n",
    "display(corr)\n",
    "\n",
    "sns.heatmap(corr, \n",
    "            xticklabels = corr.columns, \n",
    "            yticklabels = corr.columns,\n",
    "            vmin=-1, vmax=1, center=0,\n",
    "            cmap=sns.diverging_palette(20, 220, n=200),\n",
    "            square=True)"
   ]
  },
  {
   "cell_type": "markdown",
   "metadata": {
    "hidden": true
   },
   "source": [
    "Very high correlations between:\n",
    "\n",
    "immigration and pop_growth: immigration might have positive impact on fertility (pop_growth = births - deaths)\n",
    "\n",
    "immigration and gdp: need to check the formula of gdp\n",
    "\n",
    "work_age_be and age_dep_be: as expected, see above"
   ]
  },
  {
   "cell_type": "markdown",
   "metadata": {
    "hidden": true
   },
   "source": [
    "Let's remove highly collinear variables"
   ]
  },
  {
   "cell_type": "code",
   "execution_count": null,
   "metadata": {
    "hidden": true,
    "scrolled": true
   },
   "outputs": [],
   "source": [
    "df_before = select_df\n",
    "df_after = select_df[['total_immigr', 'work_age_be', 'pop_growth_be', 'gdp_capita_be', 'pol_change_minor', 'pol_change_mid', 'pol_change_major']]\n",
    "\n",
    "#Adding a constant\n",
    "X1 = sm.tools.add_constant(df_before)\n",
    "X2 = sm.tools.add_constant(df_after)\n",
    "\n",
    "#Create a series for both\n",
    "series_before = pd.Series([variance_inflation_factor(X1.values, i) for i in range(X1.shape[1])], index = X1.columns)\n",
    "series_after = pd.Series([variance_inflation_factor(X2.values, i) for i in range(X2.shape[1])], index = X2.columns)\n",
    "\n",
    "#Display the series\n",
    "print('DATA BEFORE')\n",
    "print('-'*100)\n",
    "display(series_before)\n",
    "\n",
    "print('DATA AFTER')\n",
    "print('-'*100)\n",
    "display(series_after)"
   ]
  },
  {
   "cell_type": "code",
   "execution_count": null,
   "metadata": {
    "hidden": true
   },
   "outputs": [],
   "source": [
    "X = df_after.drop('total_immigr', axis=1)\n",
    "y = df_after[['total_immigr']]"
   ]
  },
  {
   "cell_type": "code",
   "execution_count": null,
   "metadata": {
    "hidden": true
   },
   "outputs": [],
   "source": [
    "X_train, X_test, y_train, y_test = train_test_split(X, y, test_size = 0.2, random_state = 1)\n",
    "\n",
    "lin_model = LinearRegression()\n",
    "\n",
    "lin_model.fit(X_train, y_train)"
   ]
  },
  {
   "cell_type": "markdown",
   "metadata": {
    "hidden": true
   },
   "source": [
    "### Exploring the output"
   ]
  },
  {
   "cell_type": "code",
   "execution_count": null,
   "metadata": {
    "hidden": true,
    "scrolled": true
   },
   "outputs": [],
   "source": [
    "intercept = lin_model.intercept_[0]\n",
    "coef = lin_model.coef_[0]\n",
    "\n",
    "print(\"The intercept for our model is {:.4}\".format(intercept))\n",
    "print(\"-\"*100)\n",
    "\n",
    "# Loop through the dictionary and print the data\n",
    "for cf in zip(X.columns, coef):\n",
    "    print(\"The coefficient for {} is {:.2}\".format(cf[0],cf[1]))"
   ]
  },
  {
   "cell_type": "code",
   "execution_count": null,
   "metadata": {
    "hidden": true,
    "scrolled": true
   },
   "outputs": [],
   "source": [
    "# Get multiple predictions\n",
    "y_predict = lin_model.predict(X_test)\n",
    "\n",
    "# show the first five\n",
    "y_predict[:5]"
   ]
  },
  {
   "cell_type": "markdown",
   "metadata": {
    "hidden": true
   },
   "source": [
    "### Evaluating the model"
   ]
  },
  {
   "cell_type": "code",
   "execution_count": null,
   "metadata": {
    "hidden": true
   },
   "outputs": [],
   "source": [
    "# define our input\n",
    "X2 = sm.add_constant(X)\n",
    "\n",
    "# create an OLS model\n",
    "model = sm.OLS(y, X2)\n",
    "\n",
    "# fit the data\n",
    "est = model.fit()"
   ]
  },
  {
   "cell_type": "code",
   "execution_count": null,
   "metadata": {
    "hidden": true,
    "scrolled": true
   },
   "outputs": [],
   "source": [
    "# Checking for heteroscedasticity\n",
    "_, pval, _, f_pval = diag.het_white(est.resid, est.model.exog)\n",
    "print(pval, f_pval)\n",
    "print(\"-\"*50)\n",
    "\n",
    "# Print the results of the test\n",
    "if pval > 0.05:\n",
    "    print(\"For the White's Test\")\n",
    "    print(\"The p-value was {:.4}\".format(pval))\n",
    "    print(\"We fail to reject the null hypothesis, so there is no heteroscedasticity. \\n\")\n",
    "\n",
    "else:\n",
    "    print(\"For the White's Test\")\n",
    "    print(\"The p-value was {:.4}\".format(pval))\n",
    "    print(\"We reject the null hypothesis, so there is heteroscedasticity. \\n\")\n",
    "    \n",
    "_, pval, _, f_pval = diag.het_breuschpagan(est.resid, est.model.exog)\n",
    "print(pval, f_pval)\n",
    "print(\"-\"*50)\n",
    "\n",
    "# Print the results of the test\n",
    "if pval > 0.05:\n",
    "    print(\"For the Breusch-Pagan's Test\")\n",
    "    print(\"The p-value was {:.4}\".format(pval))\n",
    "    print(\"We fail to reject the null hypothesis, so there is no heteroscedasticity. \\n\")\n",
    "\n",
    "else:\n",
    "    print(\"For the Breusch-Pagan's Test\")\n",
    "    print(\"The p-value was {:.4}\".format(pval))\n",
    "    print(\"We reject the null hypothesis, so there is heteroscedasticity. \\n\")\n",
    "    "
   ]
  },
  {
   "cell_type": "code",
   "execution_count": null,
   "metadata": {
    "hidden": true,
    "scrolled": true
   },
   "outputs": [],
   "source": [
    "# Checking for autocorrelation\n",
    "\n",
    "# calculate the lag\n",
    "lag = min(10, (len(X)// 5))\n",
    "print('The number of lags will be {}'.format(lag))\n",
    "print('.'*100)\n",
    "\n",
    "# perform Ljung-box test\n",
    "test_results = diag.acorr_ljungbox(est.resid, lags = lag)\n",
    "\n",
    "# grab the p-values and the test statistics\n",
    "ibvalue, p_val = test_results\n",
    "\n",
    "# print the results of the test\n",
    "if min(p_val) > 0.05:\n",
    "    print(\"The lowest p-value found was {:.4}\".format(min(p_val)))\n",
    "    print(\"We fail to reject the null hypothesis, so there is no autocorrelation.\")\n",
    "    print(\".\"*100)\n",
    "else:\n",
    "    print(\"The lowest p-value found was {:.4}\".format(min(p_val)))\n",
    "    print(\"We reject the null hypothesis, so there is autocorrelation.\")\n",
    "    print(\".\"*100)\n",
    "    \n",
    "# plot autocorrelation\n",
    "sm.graphics.tsa.plot_acf(est.resid)\n",
    "plt.show()"
   ]
  },
  {
   "cell_type": "markdown",
   "metadata": {
    "hidden": true
   },
   "source": [
    "### Checking for normally distributed residuals"
   ]
  },
  {
   "cell_type": "code",
   "execution_count": null,
   "metadata": {
    "hidden": true,
    "scrolled": true
   },
   "outputs": [],
   "source": [
    "# Checking that the mean of the residuals equals 0\n",
    "import pylab\n",
    "sm.qqplot(est.resid, line = 's')\n",
    "pylab.show()\n",
    "\n",
    "# Check that the mean of the residuals is approx. 0\n",
    "mean_residuals = sum(est.resid) / len(est.resid)\n",
    "mean_residuals"
   ]
  },
  {
   "cell_type": "markdown",
   "metadata": {
    "hidden": true
   },
   "source": [
    "### Measures of error"
   ]
  },
  {
   "cell_type": "code",
   "execution_count": null,
   "metadata": {
    "hidden": true
   },
   "outputs": [],
   "source": [
    "import math \n",
    "#calculate the mean squared error\n",
    "model_mse = mean_squared_error(y_test, y_predict)\n",
    "\n",
    "#calculate the mean absolute error\n",
    "model_mae = mean_absolute_error(y_test, y_predict)\n",
    "\n",
    "#calculate the root mean squared error\n",
    "model_rmse = math.sqrt(model_mse)\n",
    "\n",
    "#display the output\n",
    "print(\"MSE {:.3}\".format(model_mse))\n",
    "print(\"MAE {:.3}\".format(model_mae))\n",
    "print(\"RMSE {:.3}\".format(model_rmse))"
   ]
  },
  {
   "cell_type": "markdown",
   "metadata": {
    "hidden": true
   },
   "source": [
    "R-Squared"
   ]
  },
  {
   "cell_type": "code",
   "execution_count": null,
   "metadata": {
    "hidden": true
   },
   "outputs": [],
   "source": [
    "model_r2 = r2_score(y_test, y_predict)\n",
    "model_r2"
   ]
  },
  {
   "cell_type": "markdown",
   "metadata": {
    "hidden": true
   },
   "source": [
    "Confidence intervals"
   ]
  },
  {
   "cell_type": "code",
   "execution_count": null,
   "metadata": {
    "hidden": true,
    "scrolled": true
   },
   "outputs": [],
   "source": [
    "est.conf_int()"
   ]
  },
  {
   "cell_type": "markdown",
   "metadata": {
    "hidden": true
   },
   "source": [
    "Hypothesis testing"
   ]
  },
  {
   "cell_type": "code",
   "execution_count": null,
   "metadata": {
    "hidden": true,
    "scrolled": true
   },
   "outputs": [],
   "source": [
    "est.pvalues"
   ]
  },
  {
   "cell_type": "markdown",
   "metadata": {
    "hidden": true
   },
   "source": [
    "Create a summary of the model output"
   ]
  },
  {
   "cell_type": "code",
   "execution_count": null,
   "metadata": {
    "hidden": true,
    "scrolled": true
   },
   "outputs": [],
   "source": [
    "print(est.summary())"
   ]
  },
  {
   "cell_type": "markdown",
   "metadata": {
    "hidden": true
   },
   "source": [
    "Remove the insignificant variables (to be done)"
   ]
  },
  {
   "cell_type": "code",
   "execution_count": null,
   "metadata": {
    "hidden": true
   },
   "outputs": [],
   "source": [
    "df_after = select_df[['total_immigr', 'work_age_be', 'pop_growth_be', 'gdp_capita_be', 'pol_change_minor', 'pol_change_mid', 'pol_change_major']]\n",
    "#df_after = select_df.drop(['total_immigr', 'work_age_be', 'pop_growth_be', 'gdp_capita_be', 'pol_change_minor', 'pol_change_mid', 'pol_change_major'], axis = 1)\n",
    "\n",
    "X = df_after.drop('total_immigr', axis=1)\n",
    "y = df_after[['total_immigr']]\n",
    "\n",
    "X_train, X_test, y_train, y_test = train_test_split(X, y, test_size = 0.2, random_state = 1)\n",
    "\n",
    "lin_model = LinearRegression()\n",
    "\n",
    "lin_model.fit(X_train, y_train)"
   ]
  },
  {
   "cell_type": "code",
   "execution_count": null,
   "metadata": {
    "hidden": true
   },
   "outputs": [],
   "source": [
    "# define our input\n",
    "X2 = sm.add_constant(X)\n",
    "\n",
    "# create a OLS model\n",
    "model = sm.OLS(y, X2)\n",
    "\n",
    "# fit the data\n",
    "est = model.fit()\n",
    "\n",
    "print(est.summary())"
   ]
  },
  {
   "cell_type": "markdown",
   "metadata": {
    "hidden": true
   },
   "source": [
    "### Save the model for future use"
   ]
  },
  {
   "cell_type": "code",
   "execution_count": null,
   "metadata": {
    "hidden": true
   },
   "outputs": [],
   "source": [
    "import pickle\n",
    "\n",
    "# pickle the model\n",
    "with open('multilinear_regression.sav', 'wb') as f:\n",
    "    pickle.dump(lin_model, f)\n",
    "\n",
    "# load it back in\n",
    "with open ('multilinear_regression.sav', 'rb') as pickle_file:\n",
    "    lin_model_2 = pickle.load(pickle_file)"
   ]
  },
  {
   "cell_type": "code",
   "execution_count": null,
   "metadata": {
    "hidden": true
   },
   "outputs": [],
   "source": [
    "# make a new prediction\n",
    "#lin_model.predict([X_test.loc[?]])"
   ]
  },
  {
   "cell_type": "markdown",
   "metadata": {},
   "source": [
    "## VAR Model"
   ]
  },
  {
   "cell_type": "code",
   "execution_count": 24,
   "metadata": {},
   "outputs": [],
   "source": [
    "import matplotlib.pyplot as plt\n",
    "import seaborn as sns\n",
    "import pandas as pd\n",
    "import numpy as np\n",
    "import pylab\n",
    "import math\n",
    "\n",
    "from scipy import stats\n",
    "\n",
    "import statsmodels.api as sm\n",
    "from statsmodels.stats import diagnostic as diag\n",
    "from statsmodels.stats.outliers_influence import variance_inflation_factor\n",
    "\n",
    "from sklearn.model_selection import train_test_split\n",
    "from sklearn.linear_model import LinearRegression\n",
    "from sklearn.metrics import mean_squared_error, r2_score, mean_absolute_error\n",
    "\n",
    "\n",
    "import datetime as dt\n",
    "from datetime import datetime\n",
    "\n",
    "#!pip install keras\n",
    "\n",
    "import keras\n",
    "from keras.callbacks import EarlyStopping, ReduceLROnPlateau, ModelCheckpoint, TensorBoard\n",
    "\n",
    "%matplotlib inline"
   ]
  },
  {
   "cell_type": "code",
   "execution_count": 25,
   "metadata": {},
   "outputs": [],
   "source": [
    "data_file = \"/Users/elenaschigirev/Desktop/lw_project/project_setup/immigration.xlsx\"\n",
    "df = pd.read_excel(data_file,\n",
    "                     sheet_name=0,\n",
    "                     header=0,\n",
    "                     index_col=False,\n",
    "                     keep_default_na=True)"
   ]
  },
  {
   "cell_type": "code",
   "execution_count": 26,
   "metadata": {
    "scrolled": false
   },
   "outputs": [
    {
     "data": {
      "text/html": [
       "<div>\n",
       "<style scoped>\n",
       "    .dataframe tbody tr th:only-of-type {\n",
       "        vertical-align: middle;\n",
       "    }\n",
       "\n",
       "    .dataframe tbody tr th {\n",
       "        vertical-align: top;\n",
       "    }\n",
       "\n",
       "    .dataframe thead th {\n",
       "        text-align: right;\n",
       "    }\n",
       "</style>\n",
       "<table border=\"1\" class=\"dataframe\">\n",
       "  <thead>\n",
       "    <tr style=\"text-align: right;\">\n",
       "      <th></th>\n",
       "      <th>year</th>\n",
       "      <th>total_immigr</th>\n",
       "      <th>total_pop_be</th>\n",
       "      <th>pop_change_be</th>\n",
       "      <th>work_age_be</th>\n",
       "      <th>pop_growth_be</th>\n",
       "      <th>life_ex_be</th>\n",
       "      <th>age_dep_be</th>\n",
       "      <th>gdp_be</th>\n",
       "      <th>gdp_capita_be</th>\n",
       "      <th>rur_pop_be</th>\n",
       "      <th>pol_change_minor</th>\n",
       "      <th>pol_change_mid</th>\n",
       "      <th>pol_change_major</th>\n",
       "      <th>unempl_rate</th>\n",
       "      <th>gni</th>\n",
       "      <th>gni_capita</th>\n",
       "      <th>fert_rate</th>\n",
       "    </tr>\n",
       "  </thead>\n",
       "  <tbody>\n",
       "    <tr>\n",
       "      <th>0</th>\n",
       "      <td>1977</td>\n",
       "      <td>55298</td>\n",
       "      <td>9830358</td>\n",
       "      <td>9315</td>\n",
       "      <td>64.188460</td>\n",
       "      <td>0.123480</td>\n",
       "      <td>72.773902</td>\n",
       "      <td>55.791254</td>\n",
       "      <td>2.427833e+11</td>\n",
       "      <td>24697.300167</td>\n",
       "      <td>5.194</td>\n",
       "      <td>0</td>\n",
       "      <td>0</td>\n",
       "      <td>0</td>\n",
       "      <td>6.3</td>\n",
       "      <td>8.080847e+10</td>\n",
       "      <td>8220</td>\n",
       "      <td>1.71</td>\n",
       "    </tr>\n",
       "    <tr>\n",
       "      <th>1</th>\n",
       "      <td>1978</td>\n",
       "      <td>52594</td>\n",
       "      <td>9839534</td>\n",
       "      <td>6923</td>\n",
       "      <td>64.523219</td>\n",
       "      <td>0.093300</td>\n",
       "      <td>72.698049</td>\n",
       "      <td>54.982970</td>\n",
       "      <td>2.496830e+11</td>\n",
       "      <td>25375.485530</td>\n",
       "      <td>4.995</td>\n",
       "      <td>0</td>\n",
       "      <td>1</td>\n",
       "      <td>0</td>\n",
       "      <td>6.8</td>\n",
       "      <td>9.408408e+10</td>\n",
       "      <td>9560</td>\n",
       "      <td>1.69</td>\n",
       "    </tr>\n",
       "    <tr>\n",
       "      <th>2</th>\n",
       "      <td>1979</td>\n",
       "      <td>54854</td>\n",
       "      <td>9848382</td>\n",
       "      <td>11502</td>\n",
       "      <td>64.932801</td>\n",
       "      <td>0.089883</td>\n",
       "      <td>73.193659</td>\n",
       "      <td>54.005361</td>\n",
       "      <td>2.555282e+11</td>\n",
       "      <td>25946.212578</td>\n",
       "      <td>4.804</td>\n",
       "      <td>0</td>\n",
       "      <td>0</td>\n",
       "      <td>0</td>\n",
       "      <td>7.0</td>\n",
       "      <td>1.155627e+11</td>\n",
       "      <td>11730</td>\n",
       "      <td>1.69</td>\n",
       "    </tr>\n",
       "    <tr>\n",
       "      <th>3</th>\n",
       "      <td>1980</td>\n",
       "      <td>54694</td>\n",
       "      <td>9859243</td>\n",
       "      <td>10430</td>\n",
       "      <td>65.413216</td>\n",
       "      <td>0.110211</td>\n",
       "      <td>73.207073</td>\n",
       "      <td>52.874312</td>\n",
       "      <td>2.668840e+11</td>\n",
       "      <td>27069.426306</td>\n",
       "      <td>4.619</td>\n",
       "      <td>0</td>\n",
       "      <td>0</td>\n",
       "      <td>0</td>\n",
       "      <td>7.4</td>\n",
       "      <td>1.378263e+11</td>\n",
       "      <td>13980</td>\n",
       "      <td>1.68</td>\n",
       "    </tr>\n",
       "    <tr>\n",
       "      <th>4</th>\n",
       "      <td>1981</td>\n",
       "      <td>49298</td>\n",
       "      <td>9858982</td>\n",
       "      <td>11519</td>\n",
       "      <td>65.870820</td>\n",
       "      <td>-0.002637</td>\n",
       "      <td>73.621707</td>\n",
       "      <td>51.812296</td>\n",
       "      <td>2.661387e+11</td>\n",
       "      <td>26994.537714</td>\n",
       "      <td>4.465</td>\n",
       "      <td>0</td>\n",
       "      <td>0</td>\n",
       "      <td>1</td>\n",
       "      <td>9.4</td>\n",
       "      <td>1.300799e+11</td>\n",
       "      <td>13190</td>\n",
       "      <td>1.66</td>\n",
       "    </tr>\n",
       "  </tbody>\n",
       "</table>\n",
       "</div>"
      ],
      "text/plain": [
       "   year  total_immigr  total_pop_be  pop_change_be  work_age_be  \\\n",
       "0  1977         55298       9830358           9315    64.188460   \n",
       "1  1978         52594       9839534           6923    64.523219   \n",
       "2  1979         54854       9848382          11502    64.932801   \n",
       "3  1980         54694       9859243          10430    65.413216   \n",
       "4  1981         49298       9858982          11519    65.870820   \n",
       "\n",
       "   pop_growth_be  life_ex_be  age_dep_be        gdp_be  gdp_capita_be  \\\n",
       "0       0.123480   72.773902   55.791254  2.427833e+11   24697.300167   \n",
       "1       0.093300   72.698049   54.982970  2.496830e+11   25375.485530   \n",
       "2       0.089883   73.193659   54.005361  2.555282e+11   25946.212578   \n",
       "3       0.110211   73.207073   52.874312  2.668840e+11   27069.426306   \n",
       "4      -0.002637   73.621707   51.812296  2.661387e+11   26994.537714   \n",
       "\n",
       "   rur_pop_be  pol_change_minor  pol_change_mid  pol_change_major  \\\n",
       "0       5.194                 0               0                 0   \n",
       "1       4.995                 0               1                 0   \n",
       "2       4.804                 0               0                 0   \n",
       "3       4.619                 0               0                 0   \n",
       "4       4.465                 0               0                 1   \n",
       "\n",
       "   unempl_rate           gni  gni_capita  fert_rate  \n",
       "0          6.3  8.080847e+10        8220       1.71  \n",
       "1          6.8  9.408408e+10        9560       1.69  \n",
       "2          7.0  1.155627e+11       11730       1.69  \n",
       "3          7.4  1.378263e+11       13980       1.68  \n",
       "4          9.4  1.300799e+11       13190       1.66  "
      ]
     },
     "execution_count": 26,
     "metadata": {},
     "output_type": "execute_result"
    }
   ],
   "source": [
    "data = df[['year',\n",
    "           'total_immigr',\n",
    "           'total_pop_be',\n",
    "           'pop_change_be',\n",
    "           'work_age_be',\n",
    "           'pop_growth_be',\n",
    "           'life_ex_be',\n",
    "           'age_dep_be',\n",
    "           'gdp_be',\n",
    "           'gdp_capita_be',\n",
    "           'rur_pop_be',\n",
    "           'pol_change_minor',\n",
    "           'pol_change_mid',\n",
    "           'pol_change_major',\n",
    "           'unempl_rate',\n",
    "           'gni',\n",
    "           'gni_capita',\n",
    "           'fert_rate']]\n",
    "\n",
    "data.head()"
   ]
  },
  {
   "cell_type": "code",
   "execution_count": 27,
   "metadata": {},
   "outputs": [
    {
     "name": "stderr",
     "output_type": "stream",
     "text": [
      "/Users/elenaschigirev/.pyenv/versions/3.7.7/envs/lewagon/lib/python3.7/site-packages/ipykernel_launcher.py:1: SettingWithCopyWarning: \n",
      "A value is trying to be set on a copy of a slice from a DataFrame.\n",
      "Try using .loc[row_indexer,col_indexer] = value instead\n",
      "\n",
      "See the caveats in the documentation: https://pandas.pydata.org/pandas-docs/stable/user_guide/indexing.html#returning-a-view-versus-a-copy\n",
      "  \"\"\"Entry point for launching an IPython kernel.\n"
     ]
    },
    {
     "data": {
      "text/html": [
       "<div>\n",
       "<style scoped>\n",
       "    .dataframe tbody tr th:only-of-type {\n",
       "        vertical-align: middle;\n",
       "    }\n",
       "\n",
       "    .dataframe tbody tr th {\n",
       "        vertical-align: top;\n",
       "    }\n",
       "\n",
       "    .dataframe thead th {\n",
       "        text-align: right;\n",
       "    }\n",
       "</style>\n",
       "<table border=\"1\" class=\"dataframe\">\n",
       "  <thead>\n",
       "    <tr style=\"text-align: right;\">\n",
       "      <th></th>\n",
       "      <th>year</th>\n",
       "      <th>total_immigr</th>\n",
       "      <th>total_pop_be</th>\n",
       "      <th>pop_change_be</th>\n",
       "      <th>work_age_be</th>\n",
       "      <th>pop_growth_be</th>\n",
       "      <th>life_ex_be</th>\n",
       "      <th>age_dep_be</th>\n",
       "      <th>gdp_be</th>\n",
       "      <th>gdp_capita_be</th>\n",
       "      <th>rur_pop_be</th>\n",
       "      <th>pol_change_minor</th>\n",
       "      <th>pol_change_mid</th>\n",
       "      <th>pol_change_major</th>\n",
       "      <th>unempl_rate</th>\n",
       "      <th>gni</th>\n",
       "      <th>gni_capita</th>\n",
       "      <th>fert_rate</th>\n",
       "    </tr>\n",
       "  </thead>\n",
       "  <tbody>\n",
       "    <tr>\n",
       "      <th>0</th>\n",
       "      <td>1977-01-01</td>\n",
       "      <td>55298</td>\n",
       "      <td>9830358</td>\n",
       "      <td>9315</td>\n",
       "      <td>64.188460</td>\n",
       "      <td>0.123480</td>\n",
       "      <td>72.773902</td>\n",
       "      <td>55.791254</td>\n",
       "      <td>2.427833e+11</td>\n",
       "      <td>24697.300167</td>\n",
       "      <td>5.194</td>\n",
       "      <td>0</td>\n",
       "      <td>0</td>\n",
       "      <td>0</td>\n",
       "      <td>6.3</td>\n",
       "      <td>8.080847e+10</td>\n",
       "      <td>8220</td>\n",
       "      <td>1.71</td>\n",
       "    </tr>\n",
       "    <tr>\n",
       "      <th>1</th>\n",
       "      <td>1978-01-01</td>\n",
       "      <td>52594</td>\n",
       "      <td>9839534</td>\n",
       "      <td>6923</td>\n",
       "      <td>64.523219</td>\n",
       "      <td>0.093300</td>\n",
       "      <td>72.698049</td>\n",
       "      <td>54.982970</td>\n",
       "      <td>2.496830e+11</td>\n",
       "      <td>25375.485530</td>\n",
       "      <td>4.995</td>\n",
       "      <td>0</td>\n",
       "      <td>1</td>\n",
       "      <td>0</td>\n",
       "      <td>6.8</td>\n",
       "      <td>9.408408e+10</td>\n",
       "      <td>9560</td>\n",
       "      <td>1.69</td>\n",
       "    </tr>\n",
       "    <tr>\n",
       "      <th>2</th>\n",
       "      <td>1979-01-01</td>\n",
       "      <td>54854</td>\n",
       "      <td>9848382</td>\n",
       "      <td>11502</td>\n",
       "      <td>64.932801</td>\n",
       "      <td>0.089883</td>\n",
       "      <td>73.193659</td>\n",
       "      <td>54.005361</td>\n",
       "      <td>2.555282e+11</td>\n",
       "      <td>25946.212578</td>\n",
       "      <td>4.804</td>\n",
       "      <td>0</td>\n",
       "      <td>0</td>\n",
       "      <td>0</td>\n",
       "      <td>7.0</td>\n",
       "      <td>1.155627e+11</td>\n",
       "      <td>11730</td>\n",
       "      <td>1.69</td>\n",
       "    </tr>\n",
       "    <tr>\n",
       "      <th>3</th>\n",
       "      <td>1980-01-01</td>\n",
       "      <td>54694</td>\n",
       "      <td>9859243</td>\n",
       "      <td>10430</td>\n",
       "      <td>65.413216</td>\n",
       "      <td>0.110211</td>\n",
       "      <td>73.207073</td>\n",
       "      <td>52.874312</td>\n",
       "      <td>2.668840e+11</td>\n",
       "      <td>27069.426306</td>\n",
       "      <td>4.619</td>\n",
       "      <td>0</td>\n",
       "      <td>0</td>\n",
       "      <td>0</td>\n",
       "      <td>7.4</td>\n",
       "      <td>1.378263e+11</td>\n",
       "      <td>13980</td>\n",
       "      <td>1.68</td>\n",
       "    </tr>\n",
       "    <tr>\n",
       "      <th>4</th>\n",
       "      <td>1981-01-01</td>\n",
       "      <td>49298</td>\n",
       "      <td>9858982</td>\n",
       "      <td>11519</td>\n",
       "      <td>65.870820</td>\n",
       "      <td>-0.002637</td>\n",
       "      <td>73.621707</td>\n",
       "      <td>51.812296</td>\n",
       "      <td>2.661387e+11</td>\n",
       "      <td>26994.537714</td>\n",
       "      <td>4.465</td>\n",
       "      <td>0</td>\n",
       "      <td>0</td>\n",
       "      <td>1</td>\n",
       "      <td>9.4</td>\n",
       "      <td>1.300799e+11</td>\n",
       "      <td>13190</td>\n",
       "      <td>1.66</td>\n",
       "    </tr>\n",
       "  </tbody>\n",
       "</table>\n",
       "</div>"
      ],
      "text/plain": [
       "        year  total_immigr  total_pop_be  pop_change_be  work_age_be  \\\n",
       "0 1977-01-01         55298       9830358           9315    64.188460   \n",
       "1 1978-01-01         52594       9839534           6923    64.523219   \n",
       "2 1979-01-01         54854       9848382          11502    64.932801   \n",
       "3 1980-01-01         54694       9859243          10430    65.413216   \n",
       "4 1981-01-01         49298       9858982          11519    65.870820   \n",
       "\n",
       "   pop_growth_be  life_ex_be  age_dep_be        gdp_be  gdp_capita_be  \\\n",
       "0       0.123480   72.773902   55.791254  2.427833e+11   24697.300167   \n",
       "1       0.093300   72.698049   54.982970  2.496830e+11   25375.485530   \n",
       "2       0.089883   73.193659   54.005361  2.555282e+11   25946.212578   \n",
       "3       0.110211   73.207073   52.874312  2.668840e+11   27069.426306   \n",
       "4      -0.002637   73.621707   51.812296  2.661387e+11   26994.537714   \n",
       "\n",
       "   rur_pop_be  pol_change_minor  pol_change_mid  pol_change_major  \\\n",
       "0       5.194                 0               0                 0   \n",
       "1       4.995                 0               1                 0   \n",
       "2       4.804                 0               0                 0   \n",
       "3       4.619                 0               0                 0   \n",
       "4       4.465                 0               0                 1   \n",
       "\n",
       "   unempl_rate           gni  gni_capita  fert_rate  \n",
       "0          6.3  8.080847e+10        8220       1.71  \n",
       "1          6.8  9.408408e+10        9560       1.69  \n",
       "2          7.0  1.155627e+11       11730       1.69  \n",
       "3          7.4  1.378263e+11       13980       1.68  \n",
       "4          9.4  1.300799e+11       13190       1.66  "
      ]
     },
     "execution_count": 27,
     "metadata": {},
     "output_type": "execute_result"
    }
   ],
   "source": [
    "data['year'] = pd.to_datetime(df['year'], format='%Y')\n",
    "data.head()"
   ]
  },
  {
   "cell_type": "code",
   "execution_count": 28,
   "metadata": {},
   "outputs": [
    {
     "data": {
      "text/html": [
       "<div>\n",
       "<style scoped>\n",
       "    .dataframe tbody tr th:only-of-type {\n",
       "        vertical-align: middle;\n",
       "    }\n",
       "\n",
       "    .dataframe tbody tr th {\n",
       "        vertical-align: top;\n",
       "    }\n",
       "\n",
       "    .dataframe thead th {\n",
       "        text-align: right;\n",
       "    }\n",
       "</style>\n",
       "<table border=\"1\" class=\"dataframe\">\n",
       "  <thead>\n",
       "    <tr style=\"text-align: right;\">\n",
       "      <th></th>\n",
       "      <th>total_immigr</th>\n",
       "      <th>total_pop_be</th>\n",
       "      <th>pop_change_be</th>\n",
       "      <th>work_age_be</th>\n",
       "      <th>pop_growth_be</th>\n",
       "      <th>life_ex_be</th>\n",
       "      <th>age_dep_be</th>\n",
       "      <th>gdp_be</th>\n",
       "      <th>gdp_capita_be</th>\n",
       "      <th>rur_pop_be</th>\n",
       "      <th>pol_change_minor</th>\n",
       "      <th>pol_change_mid</th>\n",
       "      <th>pol_change_major</th>\n",
       "      <th>unempl_rate</th>\n",
       "      <th>gni</th>\n",
       "      <th>gni_capita</th>\n",
       "      <th>fert_rate</th>\n",
       "    </tr>\n",
       "    <tr>\n",
       "      <th>year</th>\n",
       "      <th></th>\n",
       "      <th></th>\n",
       "      <th></th>\n",
       "      <th></th>\n",
       "      <th></th>\n",
       "      <th></th>\n",
       "      <th></th>\n",
       "      <th></th>\n",
       "      <th></th>\n",
       "      <th></th>\n",
       "      <th></th>\n",
       "      <th></th>\n",
       "      <th></th>\n",
       "      <th></th>\n",
       "      <th></th>\n",
       "      <th></th>\n",
       "      <th></th>\n",
       "    </tr>\n",
       "  </thead>\n",
       "  <tbody>\n",
       "    <tr>\n",
       "      <th>1977-01-01</th>\n",
       "      <td>55298</td>\n",
       "      <td>9830358</td>\n",
       "      <td>9315</td>\n",
       "      <td>64.188460</td>\n",
       "      <td>0.123480</td>\n",
       "      <td>72.773902</td>\n",
       "      <td>55.791254</td>\n",
       "      <td>2.427833e+11</td>\n",
       "      <td>24697.300167</td>\n",
       "      <td>5.194</td>\n",
       "      <td>0</td>\n",
       "      <td>0</td>\n",
       "      <td>0</td>\n",
       "      <td>6.3</td>\n",
       "      <td>8.080847e+10</td>\n",
       "      <td>8220</td>\n",
       "      <td>1.71</td>\n",
       "    </tr>\n",
       "    <tr>\n",
       "      <th>1978-01-01</th>\n",
       "      <td>52594</td>\n",
       "      <td>9839534</td>\n",
       "      <td>6923</td>\n",
       "      <td>64.523219</td>\n",
       "      <td>0.093300</td>\n",
       "      <td>72.698049</td>\n",
       "      <td>54.982970</td>\n",
       "      <td>2.496830e+11</td>\n",
       "      <td>25375.485530</td>\n",
       "      <td>4.995</td>\n",
       "      <td>0</td>\n",
       "      <td>1</td>\n",
       "      <td>0</td>\n",
       "      <td>6.8</td>\n",
       "      <td>9.408408e+10</td>\n",
       "      <td>9560</td>\n",
       "      <td>1.69</td>\n",
       "    </tr>\n",
       "    <tr>\n",
       "      <th>1979-01-01</th>\n",
       "      <td>54854</td>\n",
       "      <td>9848382</td>\n",
       "      <td>11502</td>\n",
       "      <td>64.932801</td>\n",
       "      <td>0.089883</td>\n",
       "      <td>73.193659</td>\n",
       "      <td>54.005361</td>\n",
       "      <td>2.555282e+11</td>\n",
       "      <td>25946.212578</td>\n",
       "      <td>4.804</td>\n",
       "      <td>0</td>\n",
       "      <td>0</td>\n",
       "      <td>0</td>\n",
       "      <td>7.0</td>\n",
       "      <td>1.155627e+11</td>\n",
       "      <td>11730</td>\n",
       "      <td>1.69</td>\n",
       "    </tr>\n",
       "    <tr>\n",
       "      <th>1980-01-01</th>\n",
       "      <td>54694</td>\n",
       "      <td>9859243</td>\n",
       "      <td>10430</td>\n",
       "      <td>65.413216</td>\n",
       "      <td>0.110211</td>\n",
       "      <td>73.207073</td>\n",
       "      <td>52.874312</td>\n",
       "      <td>2.668840e+11</td>\n",
       "      <td>27069.426306</td>\n",
       "      <td>4.619</td>\n",
       "      <td>0</td>\n",
       "      <td>0</td>\n",
       "      <td>0</td>\n",
       "      <td>7.4</td>\n",
       "      <td>1.378263e+11</td>\n",
       "      <td>13980</td>\n",
       "      <td>1.68</td>\n",
       "    </tr>\n",
       "    <tr>\n",
       "      <th>1981-01-01</th>\n",
       "      <td>49298</td>\n",
       "      <td>9858982</td>\n",
       "      <td>11519</td>\n",
       "      <td>65.870820</td>\n",
       "      <td>-0.002637</td>\n",
       "      <td>73.621707</td>\n",
       "      <td>51.812296</td>\n",
       "      <td>2.661387e+11</td>\n",
       "      <td>26994.537714</td>\n",
       "      <td>4.465</td>\n",
       "      <td>0</td>\n",
       "      <td>0</td>\n",
       "      <td>1</td>\n",
       "      <td>9.4</td>\n",
       "      <td>1.300799e+11</td>\n",
       "      <td>13190</td>\n",
       "      <td>1.66</td>\n",
       "    </tr>\n",
       "  </tbody>\n",
       "</table>\n",
       "</div>"
      ],
      "text/plain": [
       "            total_immigr  total_pop_be  pop_change_be  work_age_be  \\\n",
       "year                                                                 \n",
       "1977-01-01         55298       9830358           9315    64.188460   \n",
       "1978-01-01         52594       9839534           6923    64.523219   \n",
       "1979-01-01         54854       9848382          11502    64.932801   \n",
       "1980-01-01         54694       9859243          10430    65.413216   \n",
       "1981-01-01         49298       9858982          11519    65.870820   \n",
       "\n",
       "            pop_growth_be  life_ex_be  age_dep_be        gdp_be  \\\n",
       "year                                                              \n",
       "1977-01-01       0.123480   72.773902   55.791254  2.427833e+11   \n",
       "1978-01-01       0.093300   72.698049   54.982970  2.496830e+11   \n",
       "1979-01-01       0.089883   73.193659   54.005361  2.555282e+11   \n",
       "1980-01-01       0.110211   73.207073   52.874312  2.668840e+11   \n",
       "1981-01-01      -0.002637   73.621707   51.812296  2.661387e+11   \n",
       "\n",
       "            gdp_capita_be  rur_pop_be  pol_change_minor  pol_change_mid  \\\n",
       "year                                                                      \n",
       "1977-01-01   24697.300167       5.194                 0               0   \n",
       "1978-01-01   25375.485530       4.995                 0               1   \n",
       "1979-01-01   25946.212578       4.804                 0               0   \n",
       "1980-01-01   27069.426306       4.619                 0               0   \n",
       "1981-01-01   26994.537714       4.465                 0               0   \n",
       "\n",
       "            pol_change_major  unempl_rate           gni  gni_capita  fert_rate  \n",
       "year                                                                            \n",
       "1977-01-01                 0          6.3  8.080847e+10        8220       1.71  \n",
       "1978-01-01                 0          6.8  9.408408e+10        9560       1.69  \n",
       "1979-01-01                 0          7.0  1.155627e+11       11730       1.69  \n",
       "1980-01-01                 0          7.4  1.378263e+11       13980       1.68  \n",
       "1981-01-01                 1          9.4  1.300799e+11       13190       1.66  "
      ]
     },
     "execution_count": 28,
     "metadata": {},
     "output_type": "execute_result"
    }
   ],
   "source": [
    "data = data.set_index(['year'])\n",
    "data.head()"
   ]
  },
  {
   "cell_type": "code",
   "execution_count": 30,
   "metadata": {
    "scrolled": false
   },
   "outputs": [
    {
     "name": "stdout",
     "output_type": "stream",
     "text": [
      "DATA BEFORE\n",
      "----------------------------------------------------------------------------------------------------\n"
     ]
    },
    {
     "name": "stderr",
     "output_type": "stream",
     "text": [
      "/Users/elenaschigirev/.pyenv/versions/3.7.7/envs/lewagon/lib/python3.7/site-packages/statsmodels/regression/linear_model.py:1715: RuntimeWarning: divide by zero encountered in double_scalars\n",
      "  return 1 - self.ssr/self.centered_tss\n"
     ]
    },
    {
     "data": {
      "text/plain": [
       "const                    0.000000\n",
       "total_immigr           136.170762\n",
       "total_pop_be         10315.207319\n",
       "pop_change_be           31.291986\n",
       "work_age_be            449.282145\n",
       "pop_growth_be           12.135455\n",
       "life_ex_be             821.465536\n",
       "age_dep_be             714.324715\n",
       "gdp_be              111881.021276\n",
       "gdp_capita_be        83090.849299\n",
       "rur_pop_be            1301.346614\n",
       "pol_change_minor         1.479338\n",
       "pol_change_mid           1.876262\n",
       "pol_change_major         1.436313\n",
       "unempl_rate              5.398674\n",
       "gni                  49580.968697\n",
       "gni_capita           40777.631655\n",
       "fert_rate               57.607227\n",
       "dtype: float64"
      ]
     },
     "metadata": {},
     "output_type": "display_data"
    },
    {
     "name": "stdout",
     "output_type": "stream",
     "text": [
      "DATA AFTER\n",
      "----------------------------------------------------------------------------------------------------\n"
     ]
    },
    {
     "data": {
      "text/plain": [
       "const               2082.573778\n",
       "total_immigr          16.434618\n",
       "age_dep_be             1.799472\n",
       "pol_change_minor       1.269474\n",
       "pol_change_mid         1.247276\n",
       "pol_change_major       1.210892\n",
       "unempl_rate            1.634644\n",
       "gni_capita            13.794361\n",
       "fert_rate              3.026355\n",
       "dtype: float64"
      ]
     },
     "metadata": {},
     "output_type": "display_data"
    }
   ],
   "source": [
    "data_before = data\n",
    "data_after = data.drop(['total_pop_be', \n",
    "                        'pop_change_be', \n",
    "                        'work_age_be', \n",
    "                        'pop_growth_be', \n",
    "                        'life_ex_be', \n",
    "                        'gdp_be',\n",
    "                        'gdp_capita_be',\n",
    "                        'rur_pop_be',\n",
    "                        'gni'], axis=1)\n",
    "\n",
    "#Adding a constant\n",
    "X1 = sm.tools.add_constant(data_before)\n",
    "X2 = sm.tools.add_constant(data_after)\n",
    "\n",
    "#Create a series for both\n",
    "series_before = pd.Series([variance_inflation_factor(X1.values, i) for i in range(X1.shape[1])], index = X1.columns)\n",
    "series_after = pd.Series([variance_inflation_factor(X2.values, i) for i in range(X2.shape[1])], index = X2.columns)\n",
    "\n",
    "#Display the series\n",
    "print('DATA BEFORE')\n",
    "print('-'*100)\n",
    "display(series_before)\n",
    "\n",
    "print('DATA AFTER')\n",
    "print('-'*100)\n",
    "display(series_after)"
   ]
  },
  {
   "cell_type": "code",
   "execution_count": 31,
   "metadata": {
    "scrolled": false
   },
   "outputs": [
    {
     "data": {
      "text/html": [
       "<div>\n",
       "<style scoped>\n",
       "    .dataframe tbody tr th:only-of-type {\n",
       "        vertical-align: middle;\n",
       "    }\n",
       "\n",
       "    .dataframe tbody tr th {\n",
       "        vertical-align: top;\n",
       "    }\n",
       "\n",
       "    .dataframe thead th {\n",
       "        text-align: right;\n",
       "    }\n",
       "</style>\n",
       "<table border=\"1\" class=\"dataframe\">\n",
       "  <thead>\n",
       "    <tr style=\"text-align: right;\">\n",
       "      <th></th>\n",
       "      <th>total_immigr</th>\n",
       "      <th>age_dep_be</th>\n",
       "      <th>pol_change_minor</th>\n",
       "      <th>pol_change_mid</th>\n",
       "      <th>pol_change_major</th>\n",
       "      <th>unempl_rate</th>\n",
       "      <th>gni_capita</th>\n",
       "      <th>fert_rate</th>\n",
       "    </tr>\n",
       "    <tr>\n",
       "      <th>year</th>\n",
       "      <th></th>\n",
       "      <th></th>\n",
       "      <th></th>\n",
       "      <th></th>\n",
       "      <th></th>\n",
       "      <th></th>\n",
       "      <th></th>\n",
       "      <th></th>\n",
       "    </tr>\n",
       "  </thead>\n",
       "  <tbody>\n",
       "    <tr>\n",
       "      <th>1977-01-01</th>\n",
       "      <td>55298.0</td>\n",
       "      <td>55.791254</td>\n",
       "      <td>0.0</td>\n",
       "      <td>0.0</td>\n",
       "      <td>0.0</td>\n",
       "      <td>6.3</td>\n",
       "      <td>8220.0</td>\n",
       "      <td>1.71</td>\n",
       "    </tr>\n",
       "    <tr>\n",
       "      <th>1978-01-01</th>\n",
       "      <td>52594.0</td>\n",
       "      <td>54.982970</td>\n",
       "      <td>0.0</td>\n",
       "      <td>1.0</td>\n",
       "      <td>0.0</td>\n",
       "      <td>6.8</td>\n",
       "      <td>9560.0</td>\n",
       "      <td>1.69</td>\n",
       "    </tr>\n",
       "    <tr>\n",
       "      <th>1979-01-01</th>\n",
       "      <td>54854.0</td>\n",
       "      <td>54.005361</td>\n",
       "      <td>0.0</td>\n",
       "      <td>0.0</td>\n",
       "      <td>0.0</td>\n",
       "      <td>7.0</td>\n",
       "      <td>11730.0</td>\n",
       "      <td>1.69</td>\n",
       "    </tr>\n",
       "    <tr>\n",
       "      <th>1980-01-01</th>\n",
       "      <td>54694.0</td>\n",
       "      <td>52.874312</td>\n",
       "      <td>0.0</td>\n",
       "      <td>0.0</td>\n",
       "      <td>0.0</td>\n",
       "      <td>7.4</td>\n",
       "      <td>13980.0</td>\n",
       "      <td>1.68</td>\n",
       "    </tr>\n",
       "    <tr>\n",
       "      <th>1981-01-01</th>\n",
       "      <td>49298.0</td>\n",
       "      <td>51.812296</td>\n",
       "      <td>0.0</td>\n",
       "      <td>0.0</td>\n",
       "      <td>1.0</td>\n",
       "      <td>9.4</td>\n",
       "      <td>13190.0</td>\n",
       "      <td>1.66</td>\n",
       "    </tr>\n",
       "  </tbody>\n",
       "</table>\n",
       "</div>"
      ],
      "text/plain": [
       "            total_immigr  age_dep_be  pol_change_minor  pol_change_mid  \\\n",
       "year                                                                     \n",
       "1977-01-01       55298.0   55.791254               0.0             0.0   \n",
       "1978-01-01       52594.0   54.982970               0.0             1.0   \n",
       "1979-01-01       54854.0   54.005361               0.0             0.0   \n",
       "1980-01-01       54694.0   52.874312               0.0             0.0   \n",
       "1981-01-01       49298.0   51.812296               0.0             0.0   \n",
       "\n",
       "            pol_change_major  unempl_rate  gni_capita  fert_rate  \n",
       "year                                                              \n",
       "1977-01-01               0.0          6.3      8220.0       1.71  \n",
       "1978-01-01               0.0          6.8      9560.0       1.69  \n",
       "1979-01-01               0.0          7.0     11730.0       1.69  \n",
       "1980-01-01               0.0          7.4     13980.0       1.68  \n",
       "1981-01-01               1.0          9.4     13190.0       1.66  "
      ]
     },
     "execution_count": 31,
     "metadata": {},
     "output_type": "execute_result"
    }
   ],
   "source": [
    "# Setting all values to float\n",
    "data_after = data_after.astype(float)\n",
    "data_after.head()"
   ]
  },
  {
   "cell_type": "code",
   "execution_count": 33,
   "metadata": {
    "scrolled": false
   },
   "outputs": [
    {
     "data": {
      "text/html": [
       "<div>\n",
       "<style scoped>\n",
       "    .dataframe tbody tr th:only-of-type {\n",
       "        vertical-align: middle;\n",
       "    }\n",
       "\n",
       "    .dataframe tbody tr th {\n",
       "        vertical-align: top;\n",
       "    }\n",
       "\n",
       "    .dataframe thead th {\n",
       "        text-align: right;\n",
       "    }\n",
       "</style>\n",
       "<table border=\"1\" class=\"dataframe\">\n",
       "  <thead>\n",
       "    <tr style=\"text-align: right;\">\n",
       "      <th></th>\n",
       "      <th>total_immigr</th>\n",
       "      <th>age_dep_be</th>\n",
       "      <th>pol_change_minor</th>\n",
       "      <th>pol_change_mid</th>\n",
       "      <th>pol_change_major</th>\n",
       "      <th>unempl_rate</th>\n",
       "      <th>gni_capita</th>\n",
       "      <th>fert_rate</th>\n",
       "    </tr>\n",
       "    <tr>\n",
       "      <th>year</th>\n",
       "      <th></th>\n",
       "      <th></th>\n",
       "      <th></th>\n",
       "      <th></th>\n",
       "      <th></th>\n",
       "      <th></th>\n",
       "      <th></th>\n",
       "      <th></th>\n",
       "    </tr>\n",
       "  </thead>\n",
       "  <tbody>\n",
       "    <tr>\n",
       "      <th>1977-01-01</th>\n",
       "      <td>0.108133</td>\n",
       "      <td>0.990045</td>\n",
       "      <td>0.0</td>\n",
       "      <td>0.0</td>\n",
       "      <td>0.0</td>\n",
       "      <td>0.000000</td>\n",
       "      <td>0.000000</td>\n",
       "      <td>0.571429</td>\n",
       "    </tr>\n",
       "    <tr>\n",
       "      <th>1978-01-01</th>\n",
       "      <td>0.083016</td>\n",
       "      <td>0.888458</td>\n",
       "      <td>0.0</td>\n",
       "      <td>1.0</td>\n",
       "      <td>0.0</td>\n",
       "      <td>0.106383</td>\n",
       "      <td>0.033787</td>\n",
       "      <td>0.514286</td>\n",
       "    </tr>\n",
       "    <tr>\n",
       "      <th>1979-01-01</th>\n",
       "      <td>0.104009</td>\n",
       "      <td>0.765591</td>\n",
       "      <td>0.0</td>\n",
       "      <td>0.0</td>\n",
       "      <td>0.0</td>\n",
       "      <td>0.148936</td>\n",
       "      <td>0.088502</td>\n",
       "      <td>0.514286</td>\n",
       "    </tr>\n",
       "    <tr>\n",
       "      <th>1980-01-01</th>\n",
       "      <td>0.102523</td>\n",
       "      <td>0.623440</td>\n",
       "      <td>0.0</td>\n",
       "      <td>0.0</td>\n",
       "      <td>0.0</td>\n",
       "      <td>0.234043</td>\n",
       "      <td>0.145234</td>\n",
       "      <td>0.485714</td>\n",
       "    </tr>\n",
       "    <tr>\n",
       "      <th>1981-01-01</th>\n",
       "      <td>0.052399</td>\n",
       "      <td>0.489964</td>\n",
       "      <td>0.0</td>\n",
       "      <td>0.0</td>\n",
       "      <td>1.0</td>\n",
       "      <td>0.659574</td>\n",
       "      <td>0.125315</td>\n",
       "      <td>0.428571</td>\n",
       "    </tr>\n",
       "  </tbody>\n",
       "</table>\n",
       "</div>"
      ],
      "text/plain": [
       "            total_immigr  age_dep_be  pol_change_minor  pol_change_mid  \\\n",
       "year                                                                     \n",
       "1977-01-01      0.108133    0.990045               0.0             0.0   \n",
       "1978-01-01      0.083016    0.888458               0.0             1.0   \n",
       "1979-01-01      0.104009    0.765591               0.0             0.0   \n",
       "1980-01-01      0.102523    0.623440               0.0             0.0   \n",
       "1981-01-01      0.052399    0.489964               0.0             0.0   \n",
       "\n",
       "            pol_change_major  unempl_rate  gni_capita  fert_rate  \n",
       "year                                                              \n",
       "1977-01-01               0.0     0.000000    0.000000   0.571429  \n",
       "1978-01-01               0.0     0.106383    0.033787   0.514286  \n",
       "1979-01-01               0.0     0.148936    0.088502   0.514286  \n",
       "1980-01-01               0.0     0.234043    0.145234   0.485714  \n",
       "1981-01-01               1.0     0.659574    0.125315   0.428571  "
      ]
     },
     "execution_count": 33,
     "metadata": {},
     "output_type": "execute_result"
    }
   ],
   "source": [
    "# Feature scaling \n",
    "from sklearn.preprocessing import MinMaxScaler\n",
    "\n",
    "scaler = MinMaxScaler()\n",
    "\n",
    "data_after[['total_immigr', 'age_dep_be', 'unempl_rate', 'gni_capita', 'fert_rate']] = scaler.fit_transform(data_after[['total_immigr', 'age_dep_be', 'unempl_rate', 'gni_capita', 'fert_rate']])\n",
    "\n",
    "data_after.head()"
   ]
  },
  {
   "cell_type": "code",
   "execution_count": 64,
   "metadata": {
    "scrolled": false
   },
   "outputs": [
    {
     "data": {
      "image/png": "[encoded data removed]",
      "text/plain": [
       "<Figure size 432x288 with 1 Axes>"
      ]
     },
     "metadata": {},
     "output_type": "display_data"
    }
   ],
   "source": [
    "#Visualize what variables are changing with time and how they are changing (trends)\n",
    "sns.set_style('darkgrid')\n",
    "data_after.plot(kind = 'line', legend = 'reverse', title = 'Visualizing the trends')\n",
    "plt.legend(loc = 'upper right', shadow = True, bbox_to_anchor = (1.35, 0.8))\n",
    "plt.show()"
   ]
  },
  {
   "cell_type": "markdown",
   "metadata": {},
   "source": [
    "Checking for stationarity"
   ]
  },
  {
   "cell_type": "code",
   "execution_count": 45,
   "metadata": {},
   "outputs": [
    {
     "name": "stdout",
     "output_type": "stream",
     "text": [
      "Column:  total_immigr\n",
      "--------------------------------------\n",
      "Test Statistic           0.246532\n",
      "p-value                  0.974754\n",
      "# Lags                   0.000000\n",
      "# Observations          36.000000\n",
      "Critical Value (1%)     -3.626652\n",
      "Critical Value (5%)     -2.945951\n",
      "Critical Value (10%)    -2.611671\n",
      "dtype: float64\n",
      "\n",
      "Series is Non-Stationary\n",
      "\n",
      "\n",
      "Column:  age_dep_be\n",
      "--------------------------------------\n",
      "Test Statistic          -1.860944\n",
      "p-value                  0.350651\n",
      "# Lags                   2.000000\n",
      "# Observations          34.000000\n",
      "Critical Value (1%)     -3.639224\n",
      "Critical Value (5%)     -2.951230\n",
      "Critical Value (10%)    -2.614447\n",
      "dtype: float64\n",
      "\n",
      "Series is Non-Stationary\n",
      "\n",
      "\n",
      "Column:  pol_change_minor\n",
      "--------------------------------------\n",
      "Test Statistic          -4.948717\n",
      "p-value                  0.000028\n",
      "# Lags                   1.000000\n",
      "# Observations          35.000000\n",
      "Critical Value (1%)     -3.632743\n",
      "Critical Value (5%)     -2.948510\n",
      "Critical Value (10%)    -2.613017\n",
      "dtype: float64\n",
      "\n",
      "Series is Stationary\n",
      "\n",
      "\n",
      "Column:  pol_change_mid\n",
      "--------------------------------------\n",
      "Test Statistic           1.677699\n",
      "p-value                  0.998073\n",
      "# Lags                   6.000000\n",
      "# Observations          30.000000\n",
      "Critical Value (1%)     -3.669920\n",
      "Critical Value (5%)     -2.964071\n",
      "Critical Value (10%)    -2.621171\n",
      "dtype: float64\n",
      "\n",
      "Series is Non-Stationary\n",
      "\n",
      "\n",
      "Column:  pol_change_major\n",
      "--------------------------------------\n",
      "Test Statistic          -0.827163\n",
      "p-value                  0.811013\n",
      "# Lags                   7.000000\n",
      "# Observations          29.000000\n",
      "Critical Value (1%)     -3.679060\n",
      "Critical Value (5%)     -2.967882\n",
      "Critical Value (10%)    -2.623158\n",
      "dtype: float64\n",
      "\n",
      "Series is Non-Stationary\n",
      "\n",
      "\n",
      "Column:  unempl_rate\n",
      "--------------------------------------\n",
      "Test Statistic          -3.978605\n",
      "p-value                  0.001527\n",
      "# Lags                   3.000000\n",
      "# Observations          33.000000\n",
      "Critical Value (1%)     -3.646135\n",
      "Critical Value (5%)     -2.954127\n",
      "Critical Value (10%)    -2.615968\n",
      "dtype: float64\n",
      "\n",
      "Series is Stationary\n",
      "\n",
      "\n",
      "Column:  gni_capita\n",
      "--------------------------------------\n",
      "Test Statistic           1.252684\n",
      "p-value                  0.996330\n",
      "# Lags                  10.000000\n",
      "# Observations          26.000000\n",
      "Critical Value (1%)     -3.711212\n",
      "Critical Value (5%)     -2.981247\n",
      "Critical Value (10%)    -2.630095\n",
      "dtype: float64\n",
      "\n",
      "Series is Non-Stationary\n",
      "\n",
      "\n",
      "Column:  fert_rate\n",
      "--------------------------------------\n",
      "Test Statistic          -1.517189\n",
      "p-value                  0.524992\n",
      "# Lags                   1.000000\n",
      "# Observations          35.000000\n",
      "Critical Value (1%)     -3.632743\n",
      "Critical Value (5%)     -2.948510\n",
      "Critical Value (10%)    -2.613017\n",
      "dtype: float64\n",
      "\n",
      "Series is Non-Stationary\n",
      "\n",
      "\n"
     ]
    }
   ],
   "source": [
    "# Splitting the dataset into train & test subsets\n",
    "n_obs = 5\n",
    "train_set, test_set = data_after[:-n_obs], data_after[-n_obs:]\n",
    "\n",
    "# Augmented Dickey-Fuller Test (ADF Test) to check for stationarity\n",
    "from statsmodels.tsa.stattools import adfuller\n",
    "\n",
    "def adf_test(data_after):\n",
    "    dftest = adfuller(data_after, autolag='AIC')\n",
    "    adf = pd.Series(dftest[0:4], index = ['Test Statistic','p-value','# Lags','# Observations'])\n",
    "\n",
    "    for key, value in dftest[4].items():\n",
    "       adf['Critical Value (%s)'%key] = value\n",
    "    print (adf)\n",
    "\n",
    "    p = adf['p-value']\n",
    "    if p <= 0.05:\n",
    "        print(\"\\nSeries is Stationary\")\n",
    "    else:\n",
    "        print(\"\\nSeries is Non-Stationary\")\n",
    "\n",
    "\n",
    "for i in train_set.columns:\n",
    "    print(\"Column: \",i)\n",
    "    print('--------------------------------------')\n",
    "    adf_test(train_set[i])\n",
    "    print('\\n')\n"
   ]
  },
  {
   "cell_type": "code",
   "execution_count": 46,
   "metadata": {},
   "outputs": [],
   "source": [
    "# Differencing all variables to get rid of Stationarity\n",
    "data_differenced = train_set.diff().dropna()"
   ]
  },
  {
   "cell_type": "code",
   "execution_count": 47,
   "metadata": {},
   "outputs": [
    {
     "name": "stdout",
     "output_type": "stream",
     "text": [
      "Column:  total_immigr\n",
      "--------------------------------------\n",
      "Test Statistic          -4.792333\n",
      "p-value                  0.000056\n",
      "# Lags                   0.000000\n",
      "# Observations          35.000000\n",
      "Critical Value (1%)     -3.632743\n",
      "Critical Value (5%)     -2.948510\n",
      "Critical Value (10%)    -2.613017\n",
      "dtype: float64\n",
      "\n",
      "Series is Stationary\n",
      "\n",
      "\n",
      "Column:  age_dep_be\n",
      "--------------------------------------\n",
      "Test Statistic          -2.360585\n",
      "p-value                  0.153171\n",
      "# Lags                   1.000000\n",
      "# Observations          34.000000\n",
      "Critical Value (1%)     -3.639224\n",
      "Critical Value (5%)     -2.951230\n",
      "Critical Value (10%)    -2.614447\n",
      "dtype: float64\n",
      "\n",
      "Series is Non-Stationary\n",
      "\n",
      "\n",
      "Column:  pol_change_minor\n",
      "--------------------------------------\n",
      "Test Statistic          -4.436580\n",
      "p-value                  0.000256\n",
      "# Lags                   5.000000\n",
      "# Observations          30.000000\n",
      "Critical Value (1%)     -3.669920\n",
      "Critical Value (5%)     -2.964071\n",
      "Critical Value (10%)    -2.621171\n",
      "dtype: float64\n",
      "\n",
      "Series is Stationary\n",
      "\n",
      "\n",
      "Column:  pol_change_mid\n",
      "--------------------------------------\n",
      "Test Statistic          -2.357778\n",
      "p-value                  0.154009\n",
      "# Lags                   6.000000\n",
      "# Observations          29.000000\n",
      "Critical Value (1%)     -3.679060\n",
      "Critical Value (5%)     -2.967882\n",
      "Critical Value (10%)    -2.623158\n",
      "dtype: float64\n",
      "\n",
      "Series is Non-Stationary\n",
      "\n",
      "\n",
      "Column:  pol_change_major\n",
      "--------------------------------------\n",
      "Test Statistic          -5.169720\n",
      "p-value                  0.000010\n",
      "# Lags                   6.000000\n",
      "# Observations          29.000000\n",
      "Critical Value (1%)     -3.679060\n",
      "Critical Value (5%)     -2.967882\n",
      "Critical Value (10%)    -2.623158\n",
      "dtype: float64\n",
      "\n",
      "Series is Stationary\n",
      "\n",
      "\n",
      "Column:  unempl_rate\n",
      "--------------------------------------\n",
      "Test Statistic          -5.111757\n",
      "p-value                  0.000013\n",
      "# Lags                   8.000000\n",
      "# Observations          27.000000\n",
      "Critical Value (1%)     -3.699608\n",
      "Critical Value (5%)     -2.976430\n",
      "Critical Value (10%)    -2.627601\n",
      "dtype: float64\n",
      "\n",
      "Series is Stationary\n",
      "\n",
      "\n",
      "Column:  gni_capita\n",
      "--------------------------------------\n",
      "Test Statistic          -3.069207\n",
      "p-value                  0.028918\n",
      "# Lags                   9.000000\n",
      "# Observations          26.000000\n",
      "Critical Value (1%)     -3.711212\n",
      "Critical Value (5%)     -2.981247\n",
      "Critical Value (10%)    -2.630095\n",
      "dtype: float64\n",
      "\n",
      "Series is Stationary\n",
      "\n",
      "\n",
      "Column:  fert_rate\n",
      "--------------------------------------\n",
      "Test Statistic          -3.235313\n",
      "p-value                  0.018029\n",
      "# Lags                   5.000000\n",
      "# Observations          30.000000\n",
      "Critical Value (1%)     -3.669920\n",
      "Critical Value (5%)     -2.964071\n",
      "Critical Value (10%)    -2.621171\n",
      "dtype: float64\n",
      "\n",
      "Series is Stationary\n",
      "\n",
      "\n"
     ]
    }
   ],
   "source": [
    "# Running the ADF test once again to test for Stationarity\n",
    "for i in data_differenced.columns:\n",
    "    print(\"Column: \",i)\n",
    "    print('--------------------------------------')\n",
    "    adf_test(data_differenced[i])\n",
    "    print('\\n')"
   ]
  },
  {
   "cell_type": "code",
   "execution_count": 48,
   "metadata": {},
   "outputs": [],
   "source": [
    "# Still non-stationary: total_immigr, age_dep_be, gni_capita\n",
    "data_differenced = data_differenced.diff().dropna()"
   ]
  },
  {
   "cell_type": "code",
   "execution_count": 49,
   "metadata": {},
   "outputs": [
    {
     "name": "stdout",
     "output_type": "stream",
     "text": [
      "Column:  total_immigr\n",
      "--------------------------------------\n",
      "Test Statistic         -7.198102e+00\n",
      "p-value                 2.404930e-10\n",
      "# Lags                  1.000000e+00\n",
      "# Observations          3.300000e+01\n",
      "Critical Value (1%)    -3.646135e+00\n",
      "Critical Value (5%)    -2.954127e+00\n",
      "Critical Value (10%)   -2.615968e+00\n",
      "dtype: float64\n",
      "\n",
      "Series is Stationary\n",
      "\n",
      "\n",
      "Column:  age_dep_be\n",
      "--------------------------------------\n",
      "Test Statistic          -3.011778\n",
      "p-value                  0.033809\n",
      "# Lags                   0.000000\n",
      "# Observations          34.000000\n",
      "Critical Value (1%)     -3.639224\n",
      "Critical Value (5%)     -2.951230\n",
      "Critical Value (10%)    -2.614447\n",
      "dtype: float64\n",
      "\n",
      "Series is Stationary\n",
      "\n",
      "\n",
      "Column:  pol_change_minor\n",
      "--------------------------------------\n",
      "Test Statistic          -5.594241\n",
      "p-value                  0.000001\n",
      "# Lags                   6.000000\n",
      "# Observations          28.000000\n",
      "Critical Value (1%)     -3.688926\n",
      "Critical Value (5%)     -2.971989\n",
      "Critical Value (10%)    -2.625296\n",
      "dtype: float64\n",
      "\n",
      "Series is Stationary\n",
      "\n",
      "\n",
      "Column:  pol_change_mid\n",
      "--------------------------------------\n",
      "Test Statistic          -4.149862\n",
      "p-value                  0.000800\n",
      "# Lags                   6.000000\n",
      "# Observations          28.000000\n",
      "Critical Value (1%)     -3.688926\n",
      "Critical Value (5%)     -2.971989\n",
      "Critical Value (10%)    -2.625296\n",
      "dtype: float64\n",
      "\n",
      "Series is Stationary\n",
      "\n",
      "\n",
      "Column:  pol_change_major\n",
      "--------------------------------------\n",
      "Test Statistic          -4.861458\n",
      "p-value                  0.000041\n",
      "# Lags                   6.000000\n",
      "# Observations          28.000000\n",
      "Critical Value (1%)     -3.688926\n",
      "Critical Value (5%)     -2.971989\n",
      "Critical Value (10%)    -2.625296\n",
      "dtype: float64\n",
      "\n",
      "Series is Stationary\n",
      "\n",
      "\n",
      "Column:  unempl_rate\n",
      "--------------------------------------\n",
      "Test Statistic          -3.614521\n",
      "p-value                  0.005489\n",
      "# Lags                   9.000000\n",
      "# Observations          25.000000\n",
      "Critical Value (1%)     -3.723863\n",
      "Critical Value (5%)     -2.986489\n",
      "Critical Value (10%)    -2.632800\n",
      "dtype: float64\n",
      "\n",
      "Series is Stationary\n",
      "\n",
      "\n",
      "Column:  gni_capita\n",
      "--------------------------------------\n",
      "Test Statistic          -4.223357\n",
      "p-value                  0.000601\n",
      "# Lags                   5.000000\n",
      "# Observations          29.000000\n",
      "Critical Value (1%)     -3.679060\n",
      "Critical Value (5%)     -2.967882\n",
      "Critical Value (10%)    -2.623158\n",
      "dtype: float64\n",
      "\n",
      "Series is Stationary\n",
      "\n",
      "\n",
      "Column:  fert_rate\n",
      "--------------------------------------\n",
      "Test Statistic          -5.128027\n",
      "p-value                  0.000012\n",
      "# Lags                   2.000000\n",
      "# Observations          32.000000\n",
      "Critical Value (1%)     -3.653520\n",
      "Critical Value (5%)     -2.957219\n",
      "Critical Value (10%)    -2.617588\n",
      "dtype: float64\n",
      "\n",
      "Series is Stationary\n",
      "\n",
      "\n"
     ]
    }
   ],
   "source": [
    "# Running the ADF test for the 3rd time to test for Stationarity\n",
    "for i in data_differenced.columns:\n",
    "    print(\"Column: \",i)\n",
    "    print('--------------------------------------')\n",
    "    adf_test(data_differenced[i])\n",
    "    print('\\n')"
   ]
  },
  {
   "cell_type": "code",
   "execution_count": 54,
   "metadata": {
    "scrolled": true
   },
   "outputs": [
    {
     "name": "stderr",
     "output_type": "stream",
     "text": [
      "/Users/elenaschigirev/.pyenv/versions/3.7.7/envs/lewagon/lib/python3.7/site-packages/statsmodels/tsa/base/tsa_model.py:527: ValueWarning: No frequency information was provided, so inferred frequency AS-JAN will be used.\n",
      "  % freq, ValueWarning)\n"
     ]
    },
    {
     "data": {
      "image/png": "[encoded data removed]",
      "text/plain": [
       "<Figure size 720x720 with 8 Axes>"
      ]
     },
     "metadata": {},
     "output_type": "display_data"
    }
   ],
   "source": [
    "# Fitting the VAR model to the Differenced Data\n",
    "from statsmodels.tsa.api import VAR\n",
    "\n",
    "model = VAR(data_differenced)\n",
    "results = model.fit(maxlags = 1, ic = 'aic')\n",
    "results.summary()\n",
    "\n",
    "# Forecasting for 5 steps ahead\n",
    "lag_order = results.k_ar\n",
    "predicted = results.forecast(data_differenced.values[-lag_order:], n_obs)\n",
    "forecast = pd.DataFrame(predicted, index = data_after.index[-n_obs:], columns = data_after.columns)\n",
    "\n",
    "# Plotting the Forecasted values\n",
    "p1 = results.plot_forecast(1)\n",
    "p1.tight_layout()\n",
    "\n",
    "# Inverting the Differencing Transformation\n",
    "def invert_transformation(data_after, df_forecast, second_diff=False):\n",
    "    for col in data_after.columns:\n",
    "        # Undo the 2nd Differencing\n",
    "        if second_diff:\n",
    "            df_forecast[str(col)] = (data_after[col].iloc[-1] - data_after[col].iloc[-2]) + df_forecast[str(col)].cumsum()\n",
    "\n",
    "        # Undo the 1st Differencing\n",
    "        df_forecast[str(col)] = data_after[col].iloc[-1] + df_forecast[str(col)].cumsum()\n",
    "\n",
    "    return df_forecast\n",
    "\n",
    "forecast_values = invert_transformation(train_set, forecast, second_diff=True)"
   ]
  },
  {
   "cell_type": "code",
   "execution_count": 61,
   "metadata": {},
   "outputs": [
    {
     "data": {
      "image/png": "[encoded data removed]",
      "text/plain": [
       "<Figure size 1000x1000 with 8 Axes>"
      ]
     },
     "metadata": {},
     "output_type": "display_data"
    }
   ],
   "source": [
    "# Actual vs Forecasted Plots\n",
    "fig, axes = plt.subplots(nrows = int(len(data_after.columns)/2), ncols = 2, dpi = 100, figsize = (10,10))\n",
    "\n",
    "for i, (col,ax) in enumerate(zip(data_after.columns, axes.flatten())):\n",
    "    forecast_values[col].plot(color = '#F4511E', legend = True, ax = ax, label=\"Forecast\").autoscale(axis =' x',tight = True)\n",
    "    test_set[col].plot(color = '#3949AB', legend = True, ax = ax, label=\"Actual\")\n",
    "\n",
    "    ax.set_title(col + ' - Actual vs Forecast')\n",
    "    ax.xaxis.set_ticks_position('none')\n",
    "    ax.yaxis.set_ticks_position('none')\n",
    "\n",
    "    ax.spines[\"top\"].set_alpha(0)\n",
    "    ax.tick_params(labelsize = 6)\n",
    "\n",
    "plt.tight_layout()\n",
    "plt.savefig('actual_forecast.png')\n",
    "plt.show()"
   ]
  },
  {
   "cell_type": "code",
   "execution_count": 58,
   "metadata": {},
   "outputs": [],
   "source": [
    "# MSE\n",
    "from sklearn.metrics import mean_squared_error\n",
    "from numpy import asarray as arr\n",
    "mse = mean_squared_error(test_set, forecast_values)"
   ]
  }
 ],
 "metadata": {
  "kernelspec": {
   "display_name": "Python 3",
   "language": "python",
   "name": "python3"
  },
  "language_info": {
   "codemirror_mode": {
    "name": "ipython",
    "version": 3
   },
   "file_extension": ".py",
   "mimetype": "text/x-python",
   "name": "python",
   "nbconvert_exporter": "python",
   "pygments_lexer": "ipython3",
   "version": "3.7.7"
  }
 },
 "nbformat": 4,
 "nbformat_minor": 4
}
